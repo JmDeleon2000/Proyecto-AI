{
 "cells": [
  {
   "cell_type": "code",
   "execution_count": 1,
   "metadata": {},
   "outputs": [
    {
     "name": "stdout",
     "output_type": "stream",
     "text": [
      "pygame 2.0.2 (SDL 2.0.16, Python 3.9.4)\n",
      "Hello from the pygame community. https://www.pygame.org/contribute.html\n"
     ]
    }
   ],
   "source": [
    "import time\n",
    "import numpy as np\n",
    "from Conways import*"
   ]
  },
  {
   "cell_type": "code",
   "execution_count": 2,
   "metadata": {},
   "outputs": [
    {
     "name": "stdout",
     "output_type": "stream",
     "text": [
      "25\n"
     ]
    }
   ],
   "source": [
    "env = conways(size = 10, max_it=1000)\n",
    "print(env.run())"
   ]
  },
  {
   "cell_type": "code",
   "execution_count": 3,
   "metadata": {},
   "outputs": [
    {
     "name": "stdout",
     "output_type": "stream",
     "text": [
      "inf\n"
     ]
    }
   ],
   "source": [
    "x = np.zeros(shape=(10, 10), dtype=bool)\n",
    "x[1, 1] = True\n",
    "x[1, 2] = True\n",
    "x[2, 1] = True\n",
    "x[2, 2] = True\n",
    "env.reset(x, offset=False)\n",
    "actions = env.run()\n",
    "print(actions)"
   ]
  },
  {
   "cell_type": "code",
   "execution_count": 4,
   "metadata": {},
   "outputs": [],
   "source": [
    "alpha = 0.1 \n",
    "max_iterations = 6000\n",
    "gamma = 0.995\n",
    "\n",
    "total = 0\n",
    "tot_reward = 0\n",
    "prev_reward = 0\n",
    "\n",
    "q_table_row_limit = 75\n",
    "\n",
    "epsilon = 1\n",
    "epsilon_decay = 0.99995"
   ]
  },
  {
   "cell_type": "code",
   "execution_count": 5,
   "metadata": {},
   "outputs": [
    {
     "name": "stdout",
     "output_type": "stream",
     "text": [
      "40\n",
      "0.9870042661452071\n",
      "[[0.14120214 0.22254572 0.80184494 0.71220061 0.6996153  0.21486675\n",
      "  0.25740071 0.28097463 0.44266125 0.62307983]\n",
      " [0.62619222 0.63285864 0.45167726 0.60551346 0.80644274 0.53037967\n",
      "  0.95879052 0.33095176 0.6682666  0.57628749]\n",
      " [0.44079342 0.43824752 0.28184903 0.26546194 0.56451571 0.14489895\n",
      "  0.05574545 0.82246225 0.70362354 0.35224032]\n",
      " [0.90128381 0.33444899 0.94579565 0.4776696  0.50739331 0.05587027\n",
      "  0.68633847 0.78820281 0.41725038 0.4826092 ]\n",
      " [0.98700427 0.8643478  0.49713513 0.26192417 0.85243923 0.1571941\n",
      "  0.10249528 0.28914708 0.40045761 0.38076883]\n",
      " [0.73033652 0.51462103 0.63325364 0.88471974 0.98481937 0.45990494\n",
      "  0.68045381 0.05273588 0.04302183 0.37263489]\n",
      " [0.7120521  0.6699277  0.53285174 0.27942962 0.9854651  0.45010288\n",
      "  0.31119463 0.30121289 0.60995068 0.76335995]\n",
      " [0.36963178 0.89129016 0.86020199 0.18416986 0.84347936 0.42962415\n",
      "  0.87853891 0.16639693 0.17834245 0.80447414]\n",
      " [0.79101311 0.50850261 0.58869565 0.53874125 0.7833547  0.52376472\n",
      "  0.87155491 0.07158531 0.5755731  0.87349107]\n",
      " [0.5453396  0.94932789 0.36869502 0.13134425 0.31117546 0.44313599\n",
      "  0.17189585 0.96604422 0.56972315 0.65674502]]\n"
     ]
    }
   ],
   "source": [
    "q_table = np.random.uniform(low=0, high=1, size=[q_table_row_limit, 10, 10])\n",
    "q_table.shape\n",
    "\n",
    "print(np.argmax(q_table[0]))\n",
    "print(np.max(q_table[0]))\n",
    "print(q_table[0])"
   ]
  },
  {
   "cell_type": "code",
   "execution_count": 6,
   "metadata": {},
   "outputs": [],
   "source": [
    "\n",
    "state_score = np.array([float('-inf') for i in range(q_table_row_limit)])\n",
    "state_table = np.random.uniform(low=0, high=1, size=[q_table_row_limit, 10, 10]) \n",
    "\n",
    "def get_discrete_state(s):\n",
    "    for i in range(q_table_row_limit):\n",
    "        if np.array_equal(s, state_table[i]):\n",
    "            return i\n",
    "    i = np.argmin(state_score)\n",
    "    state_table[i] = np.copy(s)\n",
    "    q_table[i] = np.random.uniform(low=0, high=1, size=[10, 10])\n",
    "    return i\n"
   ]
  },
  {
   "cell_type": "code",
   "execution_count": 7,
   "metadata": {},
   "outputs": [
    {
     "name": "stdout",
     "output_type": "stream",
     "text": [
      "Episode: 0\n",
      "Time Average: 0.00024299240112304687\n",
      "Mean Reward: 0.064\n",
      "Time Average: 0.46933180117607115\n",
      "Mean Reward: 114.427\n",
      "Episode: 2000\n",
      "Time Average: 0.3529937403202057\n",
      "Mean Reward: 121.0\n",
      "Time Average: 0.24940313506126405\n",
      "Mean Reward: 121.0\n",
      "Episode: 4000\n",
      "Time Average: 0.2457814302444458\n",
      "Mean Reward: 121.0\n",
      "Time Average: 0.2478071348667145\n",
      "Mean Reward: 121.0\n"
     ]
    }
   ],
   "source": [
    "current_state = np.zeros(shape=(10, 10), dtype=bool)\n",
    "\n",
    "#take initial action\n",
    "discrete_state = get_discrete_state(current_state)\n",
    "\n",
    "action = np.argmax(q_table[discrete_state])\n",
    "action = (int(action/10), action%10)\n",
    "current_state[action] = True\n",
    "best_state = current_state\n",
    "env.reset(current_state, offset = False)\n",
    "state_score[discrete_state] = env.run()\n",
    "best_reward = float('-inf')\n",
    "\n",
    "for i in range(max_iterations):\n",
    "    t0 = time.time()\n",
    "    \n",
    "\n",
    "    if (i % 2000 == 0):\n",
    "        print(f\"Episode: {i}\")\n",
    "\n",
    "    reward = 0\n",
    "    #test possible actions after taking that action\n",
    "    for j in range(q_table_row_limit):\n",
    "        if np.random.random() > epsilon:\n",
    "            action = np.argmax(q_table[discrete_state])\n",
    "        else:\n",
    "            action = np.random.randint(0, 100)\n",
    "        action = (int(action/10), action%10)\n",
    "        current_state[action] = True\n",
    "        env.reset(current_state, offset = False)\n",
    "\n",
    "        new_discrete_state = get_discrete_state(current_state)\n",
    "\n",
    "        state_score[discrete_state] = env.run()\n",
    "        reward += state_score[discrete_state]\n",
    "\n",
    "        if (state_score[discrete_state] > best_reward):\n",
    "            best_state = np.copy(current_state)\n",
    "            best_reward = state_score[discrete_state]\n",
    "\n",
    "        max_future_q = np.max(q_table[new_discrete_state])\n",
    "        current_q = q_table[(discrete_state, action)]\n",
    "\n",
    "        new_q = (1 - alpha) * current_q + alpha * (state_score[discrete_state] + gamma * max_future_q)\n",
    "        q_table[(discrete_state, action)] = new_q\n",
    "\n",
    "        discrete_state = new_discrete_state\n",
    "    \n",
    "    \n",
    "    current_state = np.copy(best_state)\n",
    "    reward = np.max(state_score)\n",
    "    if epsilon > 0.05: \n",
    "        if reward > prev_reward and i > 10000:\n",
    "            epsilon = epsilon_decay ** (i - 10000)\n",
    "\n",
    "            if i % 500 == 0:\n",
    "                print(\"Epsilon: \" + str(epsilon))\n",
    "    \n",
    "    t1 = time.time()\n",
    "    iteration_time = t1-t0\n",
    "    total += iteration_time\n",
    "\n",
    "    tot_reward += reward\n",
    "    prev_reward = reward\n",
    "\n",
    "    if i % 1000 == 0: \n",
    "        mean = total / 1000\n",
    "        print(\"Time Average: \" + str(mean))\n",
    "        total = 0\n",
    "\n",
    "        mean_reward = tot_reward / 1000\n",
    "        print(\"Mean Reward: \" + str(mean_reward))\n",
    "        tot_reward = 0"
   ]
  },
  {
   "cell_type": "code",
   "execution_count": 8,
   "metadata": {},
   "outputs": [
    {
     "name": "stdout",
     "output_type": "stream",
     "text": [
      "[[False  True  True False False False False False False False]\n",
      " [False False  True  True False False  True  True  True False]\n",
      " [ True False  True  True False False False False False False]\n",
      " [False False False False False False  True False False False]\n",
      " [False  True False  True False  True  True  True False False]\n",
      " [False False False  True  True False  True  True  True False]\n",
      " [ True False False False False False False False False  True]\n",
      " [ True False  True False False False False False False False]\n",
      " [False  True False  True  True False False  True False  True]\n",
      " [ True False False False False  True  True False  True False]]\n",
      "121\n"
     ]
    }
   ],
   "source": [
    "Final = best_state\n",
    "print(Final)\n",
    "env.reset(Final, offset = False)\n",
    "env.render = True\n",
    "print(env.run())"
   ]
  }
 ],
 "metadata": {
  "interpreter": {
   "hash": "11938c6bc6919ae2720b4d5011047913343b08a43b18698fd82dedb0d4417594"
  },
  "kernelspec": {
   "display_name": "Python 3.9.4 64-bit",
   "language": "python",
   "name": "python3"
  },
  "language_info": {
   "codemirror_mode": {
    "name": "ipython",
    "version": 3
   },
   "file_extension": ".py",
   "mimetype": "text/x-python",
   "name": "python",
   "nbconvert_exporter": "python",
   "pygments_lexer": "ipython3",
   "version": "3.9.4"
  },
  "orig_nbformat": 4
 },
 "nbformat": 4,
 "nbformat_minor": 2
}
