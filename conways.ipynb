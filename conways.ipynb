{
 "cells": [
  {
   "cell_type": "code",
   "execution_count": 2,
   "metadata": {},
   "outputs": [
    {
     "name": "stdout",
     "output_type": "stream",
     "text": [
      "pygame 2.0.2 (SDL 2.0.16, Python 3.9.4)\n",
      "Hello from the pygame community. https://www.pygame.org/contribute.html\n"
     ]
    }
   ],
   "source": [
    "import time\n",
    "import numpy as np\n",
    "from Conways import*"
   ]
  },
  {
   "cell_type": "code",
   "execution_count": 3,
   "metadata": {},
   "outputs": [
    {
     "name": "stdout",
     "output_type": "stream",
     "text": [
      "5\n"
     ]
    }
   ],
   "source": [
    "env = conways(size = 10, max_it=1000)\n",
    "print(env.run())"
   ]
  },
  {
   "cell_type": "code",
   "execution_count": 4,
   "metadata": {},
   "outputs": [],
   "source": [
    "x = np.zeros(shape=(10, 10), dtype=bool)\n",
    "x[1, 1] = True\n",
    "x[1, 2] = True\n",
    "x[2, 1] = True\n",
    "x[2, 2] = True\n"
   ]
  },
  {
   "cell_type": "code",
   "execution_count": 5,
   "metadata": {},
   "outputs": [
    {
     "name": "stdout",
     "output_type": "stream",
     "text": [
      "inf\n"
     ]
    }
   ],
   "source": [
    "env.reset(x, offset=False)\n",
    "actions = env.run()\n",
    "print(actions)"
   ]
  },
  {
   "cell_type": "code",
   "execution_count": 12,
   "metadata": {},
   "outputs": [],
   "source": [
    "alpha = 0.1 \n",
    "max_iterations = 100000\n",
    "gamma = 0.995\n",
    "\n",
    "total = 0\n",
    "tot_reward = 0\n",
    "prev_reward = 0\n",
    "\n",
    "q_table_row_limit = 1000\n",
    "\n",
    "epsilon = 1\n",
    "epsilon_decay = 0.99995"
   ]
  },
  {
   "cell_type": "code",
   "execution_count": 69,
   "metadata": {},
   "outputs": [
    {
     "name": "stdout",
     "output_type": "stream",
     "text": [
      "37\n",
      "0.9868778767122895\n",
      "[[0.43597294 0.17075194 0.70323902 0.79364689 0.7212616  0.23870057\n",
      "  0.33351781 0.34004142 0.09620045 0.46153998]\n",
      " [0.9253357  0.00443245 0.54500834 0.72538512 0.79862045 0.40248761\n",
      "  0.50839658 0.42021774 0.38044416 0.55525096]\n",
      " [0.26858018 0.1539474  0.3515666  0.88556765 0.12826753 0.84943665\n",
      "  0.90122382 0.89085294 0.66251069 0.19253059]\n",
      " [0.78915762 0.32820731 0.14567329 0.95737662 0.08181847 0.13123711\n",
      "  0.75432058 0.98687788 0.67441357 0.79528384]\n",
      " [0.48757673 0.54501297 0.36673892 0.85695461 0.80322971 0.68193952\n",
      "  0.69987424 0.73457059 0.8708963  0.45479316]\n",
      " [0.87210277 0.26379741 0.79462286 0.73906619 0.70304357 0.43066846\n",
      "  0.2200744  0.00911005 0.2638947  0.26069749]\n",
      " [0.27653386 0.38078055 0.97185337 0.41718749 0.31915725 0.1726408\n",
      "  0.09992213 0.72486477 0.55031117 0.65733778]\n",
      " [0.19837549 0.22784423 0.42290038 0.88781244 0.38763772 0.17937834\n",
      "  0.21776417 0.61195704 0.41276754 0.76858205]\n",
      " [0.68227035 0.45054126 0.71948747 0.9473031  0.64422897 0.21112898\n",
      "  0.15789727 0.86550177 0.57443068 0.83800796]\n",
      " [0.7291479  0.96405772 0.46485396 0.82604158 0.03793231 0.20330449\n",
      "  0.8041633  0.51988376 0.90294104 0.95700521]]\n"
     ]
    }
   ],
   "source": [
    "q_table = np.random.uniform(low=0, high=1, size=[q_table_row_limit, 10, 10])\n",
    "q_table.shape\n",
    "\n",
    "print(np.argmax(q_table[0]))\n",
    "print(np.max(q_table[0]))\n",
    "print(q_table[0])"
   ]
  },
  {
   "cell_type": "code",
   "execution_count": 71,
   "metadata": {},
   "outputs": [],
   "source": [
    "state_table = {}\n",
    "count = 0\n",
    "def get_discrete_state(s):\n",
    "    global count\n",
    "    global state_table\n",
    "    key = s\n",
    "    if (key in state_table.keys()):\n",
    "        return state_table[key]\n",
    "    \n",
    "    state_table[key] = count\n",
    "    count += 1\n",
    "    return count\n",
    "    \n",
    "def table_clear():\n",
    "    global count\n",
    "    global state_table\n",
    "\n",
    "    state_table.clear()\n",
    "    count = 0"
   ]
  },
  {
   "cell_type": "code",
   "execution_count": 70,
   "metadata": {},
   "outputs": [
    {
     "name": "stdout",
     "output_type": "stream",
     "text": [
      "Episode: 0\n"
     ]
    },
    {
     "ename": "NameError",
     "evalue": "name 'discrete_state' is not defined",
     "output_type": "error",
     "traceback": [
      "\u001b[1;31m---------------------------------------------------------------------------\u001b[0m",
      "\u001b[1;31mNameError\u001b[0m                                 Traceback (most recent call last)",
      "\u001b[1;32mc:\\deuVg\\AI\\Proyecto-AI\\conways.ipynb Cell 8'\u001b[0m in \u001b[0;36m<module>\u001b[1;34m\u001b[0m\n\u001b[0;32m      <a href='vscode-notebook-cell:/c%3A/deuVg/AI/Proyecto-AI/conways.ipynb#ch0000006?line=7'>8</a>\u001b[0m     \u001b[39mprint\u001b[39m(\u001b[39mf\u001b[39m\u001b[39m\"\u001b[39m\u001b[39mEpisode: \u001b[39m\u001b[39m{\u001b[39;00mi\u001b[39m}\u001b[39;00m\u001b[39m\"\u001b[39m)\n\u001b[0;32m     <a href='vscode-notebook-cell:/c%3A/deuVg/AI/Proyecto-AI/conways.ipynb#ch0000006?line=9'>10</a>\u001b[0m \u001b[39m#take initial action\u001b[39;00m\n\u001b[1;32m---> <a href='vscode-notebook-cell:/c%3A/deuVg/AI/Proyecto-AI/conways.ipynb#ch0000006?line=10'>11</a>\u001b[0m index \u001b[39m=\u001b[39m np\u001b[39m.\u001b[39margmax(q_table[discrete_state])\n\u001b[0;32m     <a href='vscode-notebook-cell:/c%3A/deuVg/AI/Proyecto-AI/conways.ipynb#ch0000006?line=11'>12</a>\u001b[0m action \u001b[39m=\u001b[39m (index\u001b[39m/\u001b[39m\u001b[39m10\u001b[39m, index\u001b[39m%\u001b[39m\u001b[39m10\u001b[39m)\n\u001b[0;32m     <a href='vscode-notebook-cell:/c%3A/deuVg/AI/Proyecto-AI/conways.ipynb#ch0000006?line=12'>13</a>\u001b[0m discrete_state \u001b[39m=\u001b[39m get_discrete_state(current_state)\n",
      "\u001b[1;31mNameError\u001b[0m: name 'discrete_state' is not defined"
     ]
    }
   ],
   "source": [
    "current_state = np.zeros(shape=(10, 10), dtype=bool)\n",
    "state_score = np.array(float('-inf') for i in range(q_table_row_limit))\n",
    "#take initial action\n",
    "index = np.argmax(q_table[discrete_state])\n",
    "action = (index/10, index%10)\n",
    "current_state[action[0], action[1]] = True\n",
    "best_state = current_state\n",
    "discrete_state = get_discrete_state(current_state)\n",
    "env.reset(current_state)\n",
    "state_score[discrete_state] = env.run()\n",
    "best_reward = np.copy(current_state)\n",
    "\n",
    "for i in range(max_iterations):\n",
    "    t0 = time.time()\n",
    "    \n",
    "\n",
    "    if (i % 2000 == 0):\n",
    "        print(f\"Episode: {i}\")\n",
    "\n",
    "    \n",
    "    #test possible actions after taking that action\n",
    "    for j in range(q_table_row_limit-1):\n",
    "        if np.random.random() > epsilon:\n",
    "            index = np.argmax(q_table[discrete_state])\n",
    "            action = (index/10, index%10)\n",
    "        else:\n",
    "            action = (np.random.randint(0, 10), np.random.randint(0, 10))\n",
    "\n",
    "        current_state[action[0], action[1]] = True\n",
    "        env.reset(current_state)\n",
    "\n",
    "        new_discrete_state = get_discrete_state(current_state)\n",
    "        state_score[discrete_state] = env.run()\n",
    "        if (state_score[discrete_state] > best_reward):\n",
    "            best_state = np.copy(current_state)\n",
    "\n",
    "        max_future_q = np.max(q_table[new_discrete_state])\n",
    "        current_q = q_table[(discrete_state, action[0], action[1])]\n",
    "\n",
    "        new_q = (1 - alpha) * current_q + alpha * (state_score[discrete_state] + gamma * max_future_q)\n",
    "        q_table[(discrete_state, action[0], action[1])] = new_q\n",
    "\n",
    "        discrete_state = new_discrete_state\n",
    "    \n",
    "    reset q table and state indexing table\n",
    "    current_state = np.copy(best_state)\n",
    "    reward = np.max(state_score)\n",
    "    if epsilon > 0.05: \n",
    "        if reward > prev_reward and i > 10000:\n",
    "            epsilon = epsilon_decay ** (i - 10000)\n",
    "\n",
    "            if i % 500 == 0:\n",
    "                print(\"Epsilon: \" + str(epsilon))\n",
    "    \n",
    "    t1 = time.time()\n",
    "    iteration_time = t1-t0\n",
    "    total += iteration_time\n",
    "\n",
    "    tot_reward += reward\n",
    "    prev_reward = reward\n",
    "\n",
    "    if i % 1000 == 0: \n",
    "        mean = total / 1000\n",
    "        print(\"Time Average: \" + str(mean))\n",
    "        total = 0\n",
    "\n",
    "        mean_reward = tot_reward / 1000\n",
    "        print(\"Mean Reward: \" + str(mean_reward))\n",
    "        tot_reward = 0\n"
   ]
  }
 ],
 "metadata": {
  "interpreter": {
   "hash": "11938c6bc6919ae2720b4d5011047913343b08a43b18698fd82dedb0d4417594"
  },
  "kernelspec": {
   "display_name": "Python 3.9.4 64-bit",
   "language": "python",
   "name": "python3"
  },
  "language_info": {
   "codemirror_mode": {
    "name": "ipython",
    "version": 3
   },
   "file_extension": ".py",
   "mimetype": "text/x-python",
   "name": "python",
   "nbconvert_exporter": "python",
   "pygments_lexer": "ipython3",
   "version": "3.9.4"
  },
  "orig_nbformat": 4
 },
 "nbformat": 4,
 "nbformat_minor": 2
}
