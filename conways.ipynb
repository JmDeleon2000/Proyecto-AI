{
 "cells": [
  {
   "cell_type": "code",
   "execution_count": 13,
   "metadata": {},
   "outputs": [],
   "source": [
    "import time\n",
    "import numpy as np\n",
    "from Conways import*"
   ]
  },
  {
   "cell_type": "code",
   "execution_count": 14,
   "metadata": {},
   "outputs": [
    {
     "name": "stdout",
     "output_type": "stream",
     "text": [
      "60\n"
     ]
    }
   ],
   "source": [
    "env = conways(size = 10, max_it=1000)\n",
    "print(env.run())"
   ]
  },
  {
   "cell_type": "code",
   "execution_count": 15,
   "metadata": {},
   "outputs": [
    {
     "name": "stdout",
     "output_type": "stream",
     "text": [
      "inf\n"
     ]
    }
   ],
   "source": [
    "x = np.zeros(shape=(10, 10), dtype=bool)\n",
    "x[1, 1] = True\n",
    "x[1, 2] = True\n",
    "x[2, 1] = True\n",
    "x[2, 2] = True\n",
    "env.reset(x, offset=False)\n",
    "actions = env.run()\n",
    "print(actions)"
   ]
  },
  {
   "cell_type": "code",
   "execution_count": 24,
   "metadata": {},
   "outputs": [],
   "source": [
    "alpha = 0.1 \n",
    "max_iterations = 6000\n",
    "gamma = 0.995\n",
    "\n",
    "total = 0\n",
    "tot_reward = 0\n",
    "prev_reward = 0\n",
    "\n",
    "q_table_row_limit = 75\n",
    "\n",
    "epsilon = 1\n",
    "epsilon_decay = 0.99995"
   ]
  },
  {
   "cell_type": "code",
   "execution_count": 25,
   "metadata": {},
   "outputs": [
    {
     "name": "stdout",
     "output_type": "stream",
     "text": [
      "6\n",
      "0.9842075341843078\n",
      "[[0.95492959 0.37671253 0.04536318 0.57877887 0.66438921 0.62724743\n",
      "  0.98420753 0.19849429 0.32189768 0.17142772]\n",
      " [0.93433593 0.6175325  0.58618332 0.89215819 0.88559545 0.03814588\n",
      "  0.93467854 0.04722136 0.42865486 0.44703616]\n",
      " [0.714715   0.66056588 0.0942604  0.04037582 0.96779647 0.32861197\n",
      "  0.92515708 0.8765821  0.75992617 0.05860798]\n",
      " [0.33936413 0.07128884 0.68027522 0.81830081 0.22743049 0.5757405\n",
      "  0.70008274 0.70661668 0.0625239  0.16593046]\n",
      " [0.75723691 0.05798787 0.16292386 0.54656086 0.34798516 0.04638192\n",
      "  0.25812251 0.56492204 0.90276983 0.01877305]\n",
      " [0.68686922 0.07475778 0.63495469 0.12811669 0.80516797 0.02123285\n",
      "  0.27523412 0.7226701  0.00853195 0.44656618]\n",
      " [0.76768596 0.8449811  0.8994773  0.88686095 0.86954444 0.19896496\n",
      "  0.52805697 0.63392875 0.23910031 0.88197276]\n",
      " [0.48505539 0.7711462  0.83897698 0.09170749 0.2672924  0.85002207\n",
      "  0.83418384 0.03880016 0.88865216 0.63834232]\n",
      " [0.12008328 0.21301726 0.22381916 0.19035045 0.62682385 0.77032634\n",
      "  0.0798745  0.04052394 0.10017418 0.17071406]\n",
      " [0.64921866 0.76891808 0.21726561 0.52428169 0.00964946 0.80129827\n",
      "  0.70659356 0.22598057 0.44069813 0.07658249]]\n"
     ]
    }
   ],
   "source": [
    "q_table = np.random.uniform(low=0, high=1, size=[q_table_row_limit, 10, 10])\n",
    "q_table.shape\n",
    "\n",
    "print(np.argmax(q_table[0]))\n",
    "print(np.max(q_table[0]))\n",
    "print(q_table[0])"
   ]
  },
  {
   "cell_type": "code",
   "execution_count": 26,
   "metadata": {},
   "outputs": [],
   "source": [
    "\n",
    "state_score = np.array([float('-inf') for i in range(q_table_row_limit)])\n",
    "state_table = np.random.uniform(low=0, high=1, size=[q_table_row_limit, 10, 10]) \n",
    "\n",
    "def get_discrete_state(s):\n",
    "    for i in range(q_table_row_limit):\n",
    "        if np.array_equal(s, state_table[i]):\n",
    "            return i\n",
    "    i = np.argmin(state_score)\n",
    "    state_table[i] = np.copy(s)\n",
    "    q_table[i] = np.random.uniform(low=0, high=1, size=[10, 10])\n",
    "    return i\n"
   ]
  },
  {
   "cell_type": "code",
   "execution_count": 27,
   "metadata": {},
   "outputs": [
    {
     "name": "stdout",
     "output_type": "stream",
     "text": [
      "Episode: 0\n",
      "Time Average: 0.0002559924125671387\n",
      "Mean Reward: 0.069\n",
      "Time Average: 0.2759894394874573\n",
      "Mean Reward: 134.492\n",
      "Episode: 2000\n",
      "Time Average: 0.2739965097904205\n",
      "Mean Reward: 136.0\n",
      "Time Average: 0.2656098198890686\n",
      "Mean Reward: 136.0\n",
      "Episode: 4000\n",
      "Time Average: 0.2708282732963562\n",
      "Mean Reward: 136.0\n",
      "Time Average: 0.27518734884262086\n",
      "Mean Reward: 136.0\n",
      "Episode: 6000\n",
      "Time Average: 0.2622783043384552\n",
      "Mean Reward: 136.0\n",
      "Time Average: 0.2592230875492096\n",
      "Mean Reward: 136.0\n",
      "Episode: 8000\n",
      "Time Average: 0.2626591453552246\n",
      "Mean Reward: 136.0\n",
      "Time Average: 0.25234042716026306\n",
      "Mean Reward: 136.0\n"
     ]
    }
   ],
   "source": [
    "current_state = np.zeros(shape=(10, 10), dtype=bool)\n",
    "\n",
    "#take initial action\n",
    "discrete_state = get_discrete_state(current_state)\n",
    "\n",
    "action = np.argmax(q_table[discrete_state])\n",
    "action = (int(action/10), action%10)\n",
    "current_state[action] = True\n",
    "best_state = current_state\n",
    "env.reset(current_state, offset = False)\n",
    "state_score[discrete_state] = env.run()\n",
    "best_reward = float('-inf')\n",
    "\n",
    "for i in range(max_iterations):\n",
    "    t0 = time.time()\n",
    "    \n",
    "\n",
    "    if (i % 2000 == 0):\n",
    "        print(f\"Episode: {i}\")\n",
    "\n",
    "    reward = 0\n",
    "    #test possible actions after taking that action\n",
    "    for j in range(q_table_row_limit):\n",
    "        if np.random.random() > epsilon:\n",
    "            action = np.argmax(q_table[discrete_state])\n",
    "        else:\n",
    "            action = np.random.randint(0, 100)\n",
    "        action = (int(action/10), action%10)\n",
    "        current_state[action] = True\n",
    "        env.reset(current_state, offset = False)\n",
    "\n",
    "        new_discrete_state = get_discrete_state(current_state)\n",
    "\n",
    "        state_score[discrete_state] = env.run()\n",
    "        reward += state_score[discrete_state]\n",
    "\n",
    "        if (state_score[discrete_state] > best_reward):\n",
    "            best_state = np.copy(current_state)\n",
    "            best_reward = state_score[discrete_state]\n",
    "\n",
    "        max_future_q = np.max(q_table[new_discrete_state])\n",
    "        current_q = q_table[(discrete_state, action)]\n",
    "\n",
    "        new_q = (1 - alpha) * current_q + alpha * (state_score[discrete_state] + gamma * max_future_q)\n",
    "        q_table[(discrete_state, action)] = new_q\n",
    "\n",
    "        discrete_state = new_discrete_state\n",
    "    \n",
    "    \n",
    "    current_state = np.copy(best_state)\n",
    "    reward = np.max(state_score)\n",
    "    if epsilon > 0.05: \n",
    "        if reward > prev_reward and i > 10000:\n",
    "            epsilon = epsilon_decay ** (i - 10000)\n",
    "\n",
    "            if i % 500 == 0:\n",
    "                print(\"Epsilon: \" + str(epsilon))\n",
    "    \n",
    "    t1 = time.time()\n",
    "    iteration_time = t1-t0\n",
    "    total += iteration_time\n",
    "\n",
    "    tot_reward += reward\n",
    "    prev_reward = reward\n",
    "\n",
    "    if i % 1000 == 0: \n",
    "        mean = total / 1000\n",
    "        print(\"Time Average: \" + str(mean))\n",
    "        total = 0\n",
    "\n",
    "        mean_reward = tot_reward / 1000\n",
    "        print(\"Mean Reward: \" + str(mean_reward))\n",
    "        tot_reward = 0"
   ]
  },
  {
   "cell_type": "code",
   "execution_count": 29,
   "metadata": {},
   "outputs": [
    {
     "name": "stdout",
     "output_type": "stream",
     "text": [
      "[[ True  True  True  True  True  True  True  True  True  True]\n",
      " [ True  True  True  True  True  True  True  True  True  True]\n",
      " [ True  True  True  True  True  True  True  True  True  True]\n",
      " [ True False  True  True  True  True  True  True  True  True]\n",
      " [False  True False False False False  True  True  True  True]\n",
      " [ True False False False False  True  True  True  True  True]\n",
      " [False False  True  True  True False  True  True  True  True]\n",
      " [ True  True  True  True  True  True  True  True  True  True]\n",
      " [ True  True  True  True  True  True  True  True  True  True]\n",
      " [ True  True  True  True  True  True  True  True  True  True]]\n",
      "136\n"
     ]
    }
   ],
   "source": [
    "Final = best_state\n",
    "print(Final)\n",
    "env.reset(Final, offset = False)\n",
    "env.render = True\n",
    "print(env.run())"
   ]
  }
 ],
 "metadata": {
  "interpreter": {
   "hash": "11938c6bc6919ae2720b4d5011047913343b08a43b18698fd82dedb0d4417594"
  },
  "kernelspec": {
   "display_name": "Python 3.9.4 64-bit",
   "language": "python",
   "name": "python3"
  },
  "language_info": {
   "codemirror_mode": {
    "name": "ipython",
    "version": 3
   },
   "file_extension": ".py",
   "mimetype": "text/x-python",
   "name": "python",
   "nbconvert_exporter": "python",
   "pygments_lexer": "ipython3",
   "version": "3.9.4"
  },
  "orig_nbformat": 4
 },
 "nbformat": 4,
 "nbformat_minor": 2
}
