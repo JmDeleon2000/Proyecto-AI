{
 "cells": [
  {
   "cell_type": "code",
   "execution_count": 1,
   "metadata": {},
   "outputs": [
    {
     "name": "stdout",
     "output_type": "stream",
     "text": [
      "pygame 2.1.0 (SDL 2.0.16, Python 3.8.5)\n",
      "Hello from the pygame community. https://www.pygame.org/contribute.html\n"
     ]
    }
   ],
   "source": [
    "import numpy as np\n",
    "import pygame\n",
    "import math\n",
    "import time"
   ]
  },
  {
   "cell_type": "code",
   "execution_count": 2,
   "metadata": {},
   "outputs": [
    {
     "data": {
      "text/plain": [
       "(5, 0)"
      ]
     },
     "execution_count": 2,
     "metadata": {},
     "output_type": "execute_result"
    }
   ],
   "source": [
    "pygame.init()"
   ]
  },
  {
   "cell_type": "code",
   "execution_count": 48,
   "metadata": {},
   "outputs": [],
   "source": [
    "class conways:\n",
    "    def __init__(self, size = 100, max_it = 100):\n",
    "        self.max_it = max_it\n",
    "        screen_size = (1024, 1024)\n",
    "        self.liveCellColor = (255, 255, 255)\n",
    "        self.deadCellColor = (25, 25, 25)\n",
    "        self.screen = pygame.display.set_mode(screen_size)\n",
    "\n",
    "        self.x_size = size+2\n",
    "        self.y_size = size+2\n",
    "        self.x_bound = self.x_size - 1\n",
    "        self.y_bound = self.y_size - 1\n",
    "\n",
    "        self.square_off = int(screen_size[0]/(self.x_size-2))\n",
    "\n",
    "        self.buff_1 = np.random.choice(\n",
    "            a = [False, False, False, False, False, True, True], \n",
    "            size = (self.x_size, self.y_size))\n",
    "        self.buff_2 = np.copy(self.buff_1)\n",
    "\n",
    "        self.buff = []\n",
    "        self.buff.append(self.buff_1)\n",
    "        self.buff.append(self.buff_2)\n",
    "\n",
    "        self.reset(self.buff_1)\n",
    "\n",
    "    def reset(self, a):\n",
    "        self.moves = 0\n",
    "        self.buff_1 = a\n",
    "\n",
    "        self.buff[0] = self.buff_1\n",
    "        self.buff[1] = self.buff_2\n",
    "        for y in range(1, self.y_bound):\n",
    "            for x in range(1, self.x_bound):\n",
    "                if self.buff_1[y, x]:\n",
    "                    self.moves += 1\n",
    "        #reset padding\n",
    "        for x in range(self.x_size):\n",
    "            self.buff_1[0, x] = False\n",
    "            self.buff_1[x, 0] = False\n",
    "            self.buff_1[self.y_bound, x] = False\n",
    "            self.buff_1[x, self.y_bound] = False\n",
    "\n",
    "\n",
    "        self.buff_2 = np.copy(self.buff_1)\n",
    "\n",
    "\n",
    "    def run(self):\n",
    "        for i in range(self.max_it):\n",
    "            changed = False\n",
    "            self.screen.fill(self.deadCellColor)\n",
    "\n",
    "            for y in range(1, self.y_bound):\n",
    "                for x in range(1, self.x_bound):\n",
    "                    self.buff[1][y, x] = False\n",
    "                    count = 0\n",
    "\n",
    "                    if (self.buff[0][y - 1, x]):\n",
    "                        count += 1\n",
    "                    if (self.buff[0][y - 1, x - 1]):\n",
    "                        count += 1\n",
    "                    if (self.buff[0][y - 1, x + 1]):\n",
    "                        count += 1\n",
    "                    if (self.buff[0][y, x - 1]):\n",
    "                        count += 1\n",
    "                    if (self.buff[0][y + 1, x - 1]):\n",
    "                        count += 1\n",
    "                    if (self.buff[0][y + 1, x + 1]):\n",
    "                        count += 1\n",
    "                    if (self.buff[0][y + 1, x]):\n",
    "                        count += 1\n",
    "                    if (self.buff[0][y, x + 1]):\n",
    "                        count += 1\n",
    "\n",
    "                    if (not(self.buff[0][y, x]) and \n",
    "                    count == 3):\n",
    "                        self.buff[1][y, x] = True\n",
    "                        changed = True\n",
    "                        \n",
    "                    if (self.buff[0][y, x] and count < 2 or count > 3):\n",
    "                        self.buff[1][y, x] = False\n",
    "                        changed = True\n",
    "                    if self.buff[0][y, x]:\n",
    "                        self.screen.fill(\n",
    "                            self.liveCellColor, \n",
    "                            rect=(self.square_off*(y-1), self.square_off*(x-1), \n",
    "                            self.square_off, self.square_off))\n",
    "\n",
    "\n",
    "\n",
    "            \n",
    "            pygame.display.flip()\n",
    "            #time.sleep(1)\n",
    "            if (self.buff[0] is self.buff_1):\n",
    "                self.buff[0] = self.buff_2\n",
    "                self.buff[1] = self.buff_1\n",
    "            else:\n",
    "                self.buff[0] = self.buff_1\n",
    "                self.buff[1] = self.buff_2\n",
    "\n",
    "\n",
    "            if not(changed):\n",
    "                alive = False\n",
    "                #print(buff[0])\n",
    "                for y in range(1, self.y_bound):\n",
    "                    for x in range(1, self.x_bound):\n",
    "                        if self.buff[0][y, x]:\n",
    "                            alive = True\n",
    "                            break\n",
    "                    if alive:\n",
    "                        break\n",
    "                if alive:\n",
    "                    return float('inf')\n",
    "                else:\n",
    "                    return i**2 - self.moves\n",
    "                \n",
    "        actions = self.max_it**2 - self.moves  \n",
    "        return self.buff, actions"
   ]
  },
  {
   "cell_type": "code",
   "execution_count": 49,
   "metadata": {},
   "outputs": [
    {
     "name": "stdout",
     "output_type": "stream",
     "text": [
      "-74921\n"
     ]
    }
   ],
   "source": [
    "env = conways(size = 512, max_it=1000)\n",
    "print(env.run())"
   ]
  },
  {
   "cell_type": "code",
   "execution_count": 54,
   "metadata": {},
   "outputs": [],
   "source": [
    "x = np.zeros(shape=(514, 514), dtype=bool)\n",
    "x[100, 100] = True\n",
    "x[100, 101] = True\n",
    "x[101, 100] = True\n",
    "x[101, 101] = False\n"
   ]
  },
  {
   "cell_type": "code",
   "execution_count": 55,
   "metadata": {},
   "outputs": [],
   "source": [
    "env.reset(x)\n",
    "actions = env.run()\n",
    "\n",
    "\n",
    "\n"
   ]
  },
  {
   "cell_type": "code",
   "execution_count": 56,
   "metadata": {},
   "outputs": [
    {
     "name": "stdout",
     "output_type": "stream",
     "text": [
      "6\n"
     ]
    }
   ],
   "source": [
    "print(actions)"
   ]
  },
  {
   "cell_type": "code",
   "execution_count": 57,
   "metadata": {},
   "outputs": [],
   "source": [
    "alpha = 0.1 \n",
    "max_iterations = 100000\n",
    "gamma = 0.995\n",
    "\n",
    "total = 0\n",
    "tot_reward = 0\n",
    "prev_reward = 0\n",
    "\n",
    "observation = [30, 30, 50, 50]\n",
    "array_win = np.array([0.25, 0.25, 0.01, 0.1])\n",
    "\n",
    "epsilon = 1\n",
    "epsilon_decay = 0.99995"
   ]
  },
  {
   "cell_type": "code",
   "execution_count": 58,
   "metadata": {},
   "outputs": [
    {
     "data": {
      "text/plain": [
       "(30, 30, 50, 50, 6)"
      ]
     },
     "execution_count": 58,
     "metadata": {},
     "output_type": "execute_result"
    }
   ],
   "source": [
    "q_table = np.random.uniform(low=0, high=1, size=(observation + [actions]))\n",
    "q_table.shape"
   ]
  },
  {
   "cell_type": "code",
   "execution_count": 59,
   "metadata": {},
   "outputs": [],
   "source": [
    "magic_array =  np.array([15,10,1,10])\n",
    "def get_discrete_state(state):\n",
    "    discrete_state = state/array_win + magic_array\n",
    "    return tuple(discrete_state.astype(int))"
   ]
  },
  {
   "cell_type": "code",
   "execution_count": 60,
   "metadata": {},
   "outputs": [],
   "source": [
    "import time\n",
    "import math"
   ]
  },
  {
   "cell_type": "code",
   "execution_count": 66,
   "metadata": {},
   "outputs": [
    {
     "name": "stdout",
     "output_type": "stream",
     "text": [
      "Episode: 0\n"
     ]
    },
    {
     "ename": "TypeError",
     "evalue": "unsupported operand type(s) for +: 'NoneType' and 'int'",
     "output_type": "error",
     "traceback": [
      "\u001b[0;31m---------------------------------------------------------------------------\u001b[0m",
      "\u001b[0;31mTypeError\u001b[0m                                 Traceback (most recent call last)",
      "Input \u001b[0;32mIn [66]\u001b[0m, in \u001b[0;36m<module>\u001b[0;34m\u001b[0m\n\u001b[1;32m     27\u001b[0m \u001b[38;5;28;01mif\u001b[39;00m \u001b[38;5;129;01mnot\u001b[39;00m done:\n\u001b[1;32m     28\u001b[0m     max_future_q \u001b[38;5;241m=\u001b[39m np\u001b[38;5;241m.\u001b[39mmax(q_table[new_discrete_state])\n\u001b[0;32m---> 29\u001b[0m     current_q \u001b[38;5;241m=\u001b[39m q_table[\u001b[43mdiscrete_state\u001b[49m\u001b[43m \u001b[49m\u001b[38;5;241;43m+\u001b[39;49m\u001b[43m \u001b[49m\u001b[43m(\u001b[49m\u001b[43maction\u001b[49m\u001b[43m)\u001b[49m]\n\u001b[1;32m     31\u001b[0m     new_q \u001b[38;5;241m=\u001b[39m (\u001b[38;5;241m1\u001b[39m \u001b[38;5;241m-\u001b[39m alpha) \u001b[38;5;241m*\u001b[39m current_q \u001b[38;5;241m+\u001b[39m alpha \u001b[38;5;241m*\u001b[39m (reward \u001b[38;5;241m+\u001b[39m gamma \u001b[38;5;241m*\u001b[39m max_future_q)\n\u001b[1;32m     33\u001b[0m     q_table[discrete_state \u001b[38;5;241m+\u001b[39m (action,)] \u001b[38;5;241m=\u001b[39m new_q\n",
      "\u001b[0;31mTypeError\u001b[0m: unsupported operand type(s) for +: 'NoneType' and 'int'"
     ]
    }
   ],
   "source": [
    "for i in range(max_iterations):\n",
    "    t0 = time.time()\n",
    "    discrete_state = env.reset(x)\n",
    "    done = False\n",
    "\n",
    "    reward = 0\n",
    "\n",
    "    if (i % 2000 == 0):\n",
    "        print(f\"Episode: {i}\")\n",
    "    \n",
    "    while(not(done)):\n",
    "        \n",
    "        if np.random.random() > epsilon:\n",
    "            action = np.argmax(q_table[discrete_state])\n",
    "        else:\n",
    "            action = np.random.randint(0, actions)\n",
    "\n",
    "        new_state = actions\n",
    "\n",
    "        reward += actions\n",
    "\n",
    "        new_discrete_state = new_state\n",
    "\n",
    "        # if (i % 2000 == 0):\n",
    "        #     env.render()\n",
    "        \n",
    "        if not done:\n",
    "            max_future_q = np.max(q_table[new_discrete_state])\n",
    "            current_q = q_table[discrete_state + (action,)]\n",
    "            \n",
    "            new_q = (1 - alpha) * current_q + alpha * (reward + gamma * max_future_q)\n",
    "\n",
    "            q_table[discrete_state + (action,)] = new_q\n",
    "        \n",
    "        discrete_state = new_discrete_state\n",
    "\n",
    "    if epsilon > 0.05: \n",
    "        if reward > prev_reward and i > 10000:\n",
    "            epsilon = math.pow(epsilon_decay, i - 10000)\n",
    "\n",
    "            if i % 500 == 0:\n",
    "                print(\"Epsilon: \" + str(epsilon))\n",
    "    \n",
    "    t1 = time.time()\n",
    "    iteration_time = t1-t0\n",
    "    total += iteration_time\n",
    "\n",
    "    tot_reward += reward\n",
    "    prev_reward = reward\n",
    "\n",
    "    if i % 1000 == 0: \n",
    "        mean = total / 1000\n",
    "        print(\"Time Average: \" + str(mean))\n",
    "        total = 0\n",
    "\n",
    "        mean_reward = tot_reward / 1000\n",
    "        print(\"Mean Reward: \" + str(mean_reward))\n",
    "        tot_reward = 0\n"
   ]
  },
  {
   "cell_type": "code",
   "execution_count": null,
   "metadata": {},
   "outputs": [],
   "source": []
  }
 ],
 "metadata": {
  "interpreter": {
   "hash": "aee8b7b246df8f9039afb4144a1f6fd8d2ca17a180786b69acc140d282b71a49"
  },
  "kernelspec": {
   "display_name": "Python 3.8.5 64-bit",
   "language": "python",
   "name": "python3"
  },
  "language_info": {
   "codemirror_mode": {
    "name": "ipython",
    "version": 3
   },
   "file_extension": ".py",
   "mimetype": "text/x-python",
   "name": "python",
   "nbconvert_exporter": "python",
   "pygments_lexer": "ipython3",
   "version": "3.8.5"
  },
  "orig_nbformat": 4
 },
 "nbformat": 4,
 "nbformat_minor": 2
}
