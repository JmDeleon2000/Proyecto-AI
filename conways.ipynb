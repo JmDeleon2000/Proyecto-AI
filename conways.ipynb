{
 "cells": [
  {
   "cell_type": "code",
   "execution_count": 1,
   "metadata": {},
   "outputs": [
    {
     "name": "stdout",
     "output_type": "stream",
     "text": [
      "pygame 2.0.2 (SDL 2.0.16, Python 3.9.4)\n",
      "Hello from the pygame community. https://www.pygame.org/contribute.html\n"
     ]
    }
   ],
   "source": [
    "import time\n",
    "import numpy as np\n",
    "from Conways import*"
   ]
  },
  {
   "cell_type": "code",
   "execution_count": 2,
   "metadata": {},
   "outputs": [
    {
     "name": "stdout",
     "output_type": "stream",
     "text": [
      "0\n"
     ]
    }
   ],
   "source": [
    "env = conways(size = 10, max_it=1000)\n",
    "print(env.run())"
   ]
  },
  {
   "cell_type": "code",
   "execution_count": 3,
   "metadata": {},
   "outputs": [
    {
     "name": "stdout",
     "output_type": "stream",
     "text": [
      "inf\n"
     ]
    }
   ],
   "source": [
    "x = np.zeros(shape=(10, 10), dtype=bool)\n",
    "x[1, 1] = True\n",
    "x[1, 2] = True\n",
    "x[2, 1] = True\n",
    "x[2, 2] = True\n",
    "env.reset(x, offset=False)\n",
    "actions = env.run()\n",
    "print(actions)"
   ]
  },
  {
   "cell_type": "code",
   "execution_count": 4,
   "metadata": {},
   "outputs": [],
   "source": [
    "alpha = 0.1 \n",
    "max_iterations = 6000\n",
    "gamma = 0.995\n",
    "\n",
    "total = 0\n",
    "tot_reward = 0\n",
    "prev_reward = 0\n",
    "\n",
    "q_table_row_limit = 75\n",
    "\n",
    "epsilon = 1\n",
    "epsilon_decay = 0.99995"
   ]
  },
  {
   "cell_type": "code",
   "execution_count": 5,
   "metadata": {},
   "outputs": [
    {
     "name": "stdout",
     "output_type": "stream",
     "text": [
      "64\n",
      "0.98532588908147\n",
      "[[0.6309982  0.74848516 0.76417106 0.41582912 0.95020608 0.4964031\n",
      "  0.95828464 0.42256276 0.03392095 0.56821832]\n",
      " [0.00167839 0.13498901 0.04475655 0.05793677 0.43361859 0.10677179\n",
      "  0.64012982 0.30123743 0.74260059 0.73662696]\n",
      " [0.49009514 0.77284674 0.98365516 0.18992405 0.32751843 0.2213401\n",
      "  0.64414573 0.66386402 0.81433358 0.89509584]\n",
      " [0.64306116 0.97591595 0.85874284 0.33463346 0.12988458 0.4889838\n",
      "  0.3040859  0.97735692 0.2805975  0.33533257]\n",
      " [0.35919554 0.72938594 0.35298474 0.48802518 0.63633568 0.65750408\n",
      "  0.71158915 0.47616752 0.84632763 0.65011769]\n",
      " [0.50028273 0.05015964 0.3855066  0.12416422 0.50131976 0.18434539\n",
      "  0.86792231 0.83248545 0.35630037 0.25717447]\n",
      " [0.39022335 0.76749015 0.74831643 0.60411075 0.98532589 0.54906516\n",
      "  0.43723077 0.9353215  0.17624019 0.03337187]\n",
      " [0.39245417 0.51311499 0.40089522 0.167976   0.83580197 0.82211912\n",
      "  0.44504472 0.8332953  0.6765988  0.20320517]\n",
      " [0.30556427 0.19859827 0.40874091 0.00729225 0.74258645 0.6772394\n",
      "  0.63338974 0.94884103 0.91015256 0.65641911]\n",
      " [0.01423644 0.22743824 0.20181836 0.67399852 0.16285168 0.35537283\n",
      "  0.22864918 0.4184827  0.69683815 0.22941257]]\n"
     ]
    }
   ],
   "source": [
    "q_table = np.random.uniform(low=0, high=1, size=[q_table_row_limit, 10, 10])\n",
    "q_table.shape\n",
    "\n",
    "print(np.argmax(q_table[0]))\n",
    "print(np.max(q_table[0]))\n",
    "print(q_table[0])"
   ]
  },
  {
   "cell_type": "code",
   "execution_count": 6,
   "metadata": {},
   "outputs": [],
   "source": [
    "\n",
    "state_score = np.array([float('-inf') for i in range(q_table_row_limit)])\n",
    "state_table = np.random.uniform(low=0, high=1, size=[q_table_row_limit, 10, 10]) \n",
    "\n",
    "def get_discrete_state(s):\n",
    "    for i in range(q_table_row_limit):\n",
    "        if np.array_equal(s, state_table[i]):\n",
    "            return i\n",
    "    i = np.argmin(state_score)\n",
    "    state_table[i] = np.copy(s)\n",
    "    q_table[i] = np.random.uniform(low=0, high=1, size=[10, 10])\n",
    "    return i\n"
   ]
  },
  {
   "cell_type": "code",
   "execution_count": 7,
   "metadata": {},
   "outputs": [
    {
     "name": "stdout",
     "output_type": "stream",
     "text": [
      "Episode: 0\n",
      "Time Average: 0.00025299835205078126\n",
      "Mean Reward: 0.003\n",
      "Time Average: 0.2576314511299133\n",
      "Mean Reward: 51.139\n",
      "Episode: 2000\n",
      "Time Average: 0.24571739292144776\n",
      "Mean Reward: 61.0\n",
      "Time Average: 0.24791902232170104\n",
      "Mean Reward: 61.0\n",
      "Episode: 4000\n",
      "Time Average: 0.24530016016960143\n",
      "Mean Reward: 61.0\n",
      "Time Average: 0.24582929873466491\n",
      "Mean Reward: 61.0\n"
     ]
    }
   ],
   "source": [
    "current_state = np.zeros(shape=(10, 10), dtype=bool)\n",
    "\n",
    "#take initial action\n",
    "discrete_state = get_discrete_state(current_state)\n",
    "\n",
    "action = np.argmax(q_table[discrete_state])\n",
    "action = (int(action/10), action%10)\n",
    "current_state[action] = True\n",
    "best_state = current_state\n",
    "env.reset(current_state, offset = False)\n",
    "state_score[discrete_state] = env.run()\n",
    "best_reward = float('-inf')\n",
    "\n",
    "for i in range(max_iterations):\n",
    "    t0 = time.time()\n",
    "    \n",
    "\n",
    "    if (i % 2000 == 0):\n",
    "        print(f\"Episode: {i}\")\n",
    "\n",
    "    reward = 0\n",
    "    #test possible actions after taking that action\n",
    "    for j in range(q_table_row_limit):\n",
    "        if np.random.random() > epsilon:\n",
    "            action = np.argmax(q_table[discrete_state])\n",
    "        else:\n",
    "            action = np.random.randint(0, 100)\n",
    "        action = (int(action/10), action%10)\n",
    "        current_state[action] = True\n",
    "        env.reset(current_state, offset = False)\n",
    "\n",
    "        new_discrete_state = get_discrete_state(current_state)\n",
    "\n",
    "        state_score[discrete_state] = env.run()\n",
    "        reward += state_score[discrete_state]\n",
    "\n",
    "        if (state_score[discrete_state] > best_reward):\n",
    "            best_state = np.copy(current_state)\n",
    "            best_reward = state_score[discrete_state]\n",
    "\n",
    "        max_future_q = np.max(q_table[new_discrete_state])\n",
    "        current_q = q_table[(discrete_state, action)]\n",
    "\n",
    "        new_q = (1 - alpha) * current_q + alpha * (state_score[discrete_state] + gamma * max_future_q)\n",
    "        q_table[(discrete_state, action)] = new_q\n",
    "\n",
    "        discrete_state = new_discrete_state\n",
    "    \n",
    "    \n",
    "    current_state = np.copy(best_state)\n",
    "    reward = np.max(state_score)\n",
    "    if epsilon > 0.05: \n",
    "        if reward > prev_reward and i > 10000:\n",
    "            epsilon = epsilon_decay ** (i - 10000)\n",
    "\n",
    "            if i % 500 == 0:\n",
    "                print(\"Epsilon: \" + str(epsilon))\n",
    "    \n",
    "    t1 = time.time()\n",
    "    iteration_time = t1-t0\n",
    "    total += iteration_time\n",
    "\n",
    "    tot_reward += reward\n",
    "    prev_reward = reward\n",
    "\n",
    "    if i % 1000 == 0: \n",
    "        mean = total / 1000\n",
    "        print(\"Time Average: \" + str(mean))\n",
    "        total = 0\n",
    "\n",
    "        mean_reward = tot_reward / 1000\n",
    "        print(\"Mean Reward: \" + str(mean_reward))\n",
    "        tot_reward = 0"
   ]
  },
  {
   "cell_type": "code",
   "execution_count": 8,
   "metadata": {},
   "outputs": [
    {
     "name": "stdout",
     "output_type": "stream",
     "text": [
      "[[False  True  True False False False False False False False]\n",
      " [False False  True  True False False  True  True  True False]\n",
      " [ True False  True  True False False False False False False]\n",
      " [False False False False False False  True False False False]\n",
      " [False  True False  True False  True  True  True False False]\n",
      " [False False False  True  True False  True  True  True False]\n",
      " [ True False False False False False False False False  True]\n",
      " [ True False  True False False False False False False False]\n",
      " [False  True False  True  True False False  True False  True]\n",
      " [ True False False False False  True  True False  True False]]\n",
      "121\n"
     ]
    }
   ],
   "source": [
    "Final = best_state\n",
    "print(Final)\n",
    "env.reset(Final, offset = False)\n",
    "env.render = True\n",
    "print(env.run())"
   ]
  }
 ],
 "metadata": {
  "interpreter": {
   "hash": "11938c6bc6919ae2720b4d5011047913343b08a43b18698fd82dedb0d4417594"
  },
  "kernelspec": {
   "display_name": "Python 3.9.4 64-bit",
   "language": "python",
   "name": "python3"
  },
  "language_info": {
   "codemirror_mode": {
    "name": "ipython",
    "version": 3
   },
   "file_extension": ".py",
   "mimetype": "text/x-python",
   "name": "python",
   "nbconvert_exporter": "python",
   "pygments_lexer": "ipython3",
   "version": "3.9.4"
  },
  "orig_nbformat": 4
 },
 "nbformat": 4,
 "nbformat_minor": 2
}
