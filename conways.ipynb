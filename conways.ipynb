{
 "cells": [
  {
   "cell_type": "code",
   "execution_count": 1,
   "metadata": {},
   "outputs": [
    {
     "name": "stdout",
     "output_type": "stream",
     "text": [
      "pygame 2.0.2 (SDL 2.0.16, Python 3.9.4)\n",
      "Hello from the pygame community. https://www.pygame.org/contribute.html\n"
     ]
    }
   ],
   "source": [
    "import time\n",
    "import numpy as np\n",
    "from Conways import*"
   ]
  },
  {
   "cell_type": "code",
   "execution_count": 2,
   "metadata": {},
   "outputs": [
    {
     "name": "stdout",
     "output_type": "stream",
     "text": [
      "36\n"
     ]
    }
   ],
   "source": [
    "env = conways(size = 10, max_it=1000)\n",
    "print(env.run())"
   ]
  },
  {
   "cell_type": "code",
   "execution_count": 4,
   "metadata": {},
   "outputs": [
    {
     "name": "stdout",
     "output_type": "stream",
     "text": [
      "inf\n"
     ]
    }
   ],
   "source": [
    "x = np.zeros(shape=(10, 10), dtype=bool)\n",
    "x[1, 1] = True\n",
    "x[1, 2] = True\n",
    "x[2, 1] = True\n",
    "x[2, 2] = True\n",
    "env.reset(x, offset=False)\n",
    "actions = env.run()\n",
    "print(actions)"
   ]
  },
  {
   "cell_type": "code",
   "execution_count": 17,
   "metadata": {},
   "outputs": [],
   "source": [
    "alpha = 0.1 \n",
    "max_iterations = 100000\n",
    "gamma = 0.995\n",
    "\n",
    "total = 0\n",
    "tot_reward = 0\n",
    "prev_reward = 0\n",
    "\n",
    "q_table_row_limit = 10000\n",
    "\n",
    "epsilon = 1\n",
    "epsilon_decay = 0.99995"
   ]
  },
  {
   "cell_type": "code",
   "execution_count": 18,
   "metadata": {},
   "outputs": [
    {
     "name": "stdout",
     "output_type": "stream",
     "text": [
      "75\n",
      "0.9909090589988636\n",
      "[[0.9544469  0.0264927  0.58260812 0.53226602 0.08865391 0.2529748\n",
      "  0.48987564 0.09578756 0.47623496 0.45176145]\n",
      " [0.50046517 0.6477062  0.9337155  0.83052136 0.15565624 0.43012585\n",
      "  0.17954245 0.83462772 0.57125971 0.08252308]\n",
      " [0.26629205 0.00217541 0.4115352  0.36756171 0.3423428  0.81144546\n",
      "  0.72682225 0.97082154 0.66485546 0.60361303]\n",
      " [0.77367114 0.65359095 0.38091909 0.74214715 0.7499489  0.86570896\n",
      "  0.46848551 0.72276159 0.53648038 0.87349239]\n",
      " [0.25253733 0.71168414 0.32609835 0.22706621 0.63918735 0.06601085\n",
      "  0.37619379 0.37231    0.34229078 0.6275968 ]\n",
      " [0.83208441 0.63807721 0.42711394 0.7263233  0.26947078 0.96994862\n",
      "  0.20384892 0.49106344 0.90350827 0.23901594]\n",
      " [0.47509496 0.96205216 0.23265837 0.70427175 0.44420872 0.6280781\n",
      "  0.29786189 0.76967381 0.6313666  0.6216556 ]\n",
      " [0.15649299 0.53409749 0.51805897 0.79090234 0.2690596  0.99090906\n",
      "  0.9821608  0.20480494 0.45334941 0.06392757]\n",
      " [0.77558411 0.5621822  0.12048103 0.68021309 0.83323832 0.76499905\n",
      "  0.82529214 0.09892999 0.91909734 0.54523153]\n",
      " [0.13793164 0.50532953 0.57389061 0.67577308 0.64724525 0.63408374\n",
      "  0.9118068  0.76409157 0.32976796 0.76171657]]\n"
     ]
    }
   ],
   "source": [
    "q_table = np.random.uniform(low=0, high=1, size=[q_table_row_limit, 10, 10])\n",
    "q_table.shape\n",
    "\n",
    "print(np.argmax(q_table[0]))\n",
    "print(np.max(q_table[0]))\n",
    "print(q_table[0])"
   ]
  },
  {
   "cell_type": "code",
   "execution_count": 21,
   "metadata": {},
   "outputs": [],
   "source": [
    "\n",
    "state_score = np.array([float('-inf') for i in range(q_table_row_limit)])\n",
    "state_table = [0 for i in range(q_table_row_limit)]\n",
    "\n",
    "def get_discrete_state(s):\n",
    "    for i in range(q_table_row_limit):\n",
    "        if state_table[i] and np.array_equal(s, state_table[i]):\n",
    "            return i\n",
    "    i = np.argmin(state_score)\n",
    "    state_table[i] = np.copy(s)\n",
    "    reinitialize q_table entry\n",
    "    return i\n"
   ]
  },
  {
   "cell_type": "code",
   "execution_count": 70,
   "metadata": {},
   "outputs": [
    {
     "name": "stdout",
     "output_type": "stream",
     "text": [
      "Episode: 0\n"
     ]
    },
    {
     "ename": "NameError",
     "evalue": "name 'discrete_state' is not defined",
     "output_type": "error",
     "traceback": [
      "\u001b[1;31m---------------------------------------------------------------------------\u001b[0m",
      "\u001b[1;31mNameError\u001b[0m                                 Traceback (most recent call last)",
      "\u001b[1;32mc:\\deuVg\\AI\\Proyecto-AI\\conways.ipynb Cell 8'\u001b[0m in \u001b[0;36m<module>\u001b[1;34m\u001b[0m\n\u001b[0;32m      <a href='vscode-notebook-cell:/c%3A/deuVg/AI/Proyecto-AI/conways.ipynb#ch0000006?line=7'>8</a>\u001b[0m     \u001b[39mprint\u001b[39m(\u001b[39mf\u001b[39m\u001b[39m\"\u001b[39m\u001b[39mEpisode: \u001b[39m\u001b[39m{\u001b[39;00mi\u001b[39m}\u001b[39;00m\u001b[39m\"\u001b[39m)\n\u001b[0;32m     <a href='vscode-notebook-cell:/c%3A/deuVg/AI/Proyecto-AI/conways.ipynb#ch0000006?line=9'>10</a>\u001b[0m \u001b[39m#take initial action\u001b[39;00m\n\u001b[1;32m---> <a href='vscode-notebook-cell:/c%3A/deuVg/AI/Proyecto-AI/conways.ipynb#ch0000006?line=10'>11</a>\u001b[0m index \u001b[39m=\u001b[39m np\u001b[39m.\u001b[39margmax(q_table[discrete_state])\n\u001b[0;32m     <a href='vscode-notebook-cell:/c%3A/deuVg/AI/Proyecto-AI/conways.ipynb#ch0000006?line=11'>12</a>\u001b[0m action \u001b[39m=\u001b[39m (index\u001b[39m/\u001b[39m\u001b[39m10\u001b[39m, index\u001b[39m%\u001b[39m\u001b[39m10\u001b[39m)\n\u001b[0;32m     <a href='vscode-notebook-cell:/c%3A/deuVg/AI/Proyecto-AI/conways.ipynb#ch0000006?line=12'>13</a>\u001b[0m discrete_state \u001b[39m=\u001b[39m get_discrete_state(current_state)\n",
      "\u001b[1;31mNameError\u001b[0m: name 'discrete_state' is not defined"
     ]
    }
   ],
   "source": [
    "current_state = np.zeros(shape=(10, 10), dtype=bool)\n",
    "\n",
    "#take initial action\n",
    "discrete_state = get_discrete_state(current_state)\n",
    "index = np.argmax(q_table[discrete_state])\n",
    "action = (index/10, index%10)\n",
    "current_state[action[0], action[1]] = True\n",
    "best_state = current_state\n",
    "env.reset(current_state)\n",
    "state_score[discrete_state] = env.run()\n",
    "best_reward = np.copy(current_state)\n",
    "\n",
    "for i in range(max_iterations):\n",
    "    t0 = time.time()\n",
    "    \n",
    "\n",
    "    if (i % 2000 == 0):\n",
    "        print(f\"Episode: {i}\")\n",
    "\n",
    "    reward = 0\n",
    "    #test possible actions after taking that action\n",
    "    for j in range(q_table_row_limit-1):\n",
    "        if np.random.random() > epsilon:\n",
    "            index = np.argmax(q_table[discrete_state])\n",
    "            action = (index/10, index%10)\n",
    "        else:\n",
    "            action = (np.random.randint(0, 10), np.random.randint(0, 10))\n",
    "\n",
    "        current_state[action[0], action[1]] = True\n",
    "        env.reset(current_state)\n",
    "\n",
    "        new_discrete_state = get_discrete_state(current_state)\n",
    "\n",
    "        state_score[discrete_state] = env.run()\n",
    "        reward += state_score[discrete_state]\n",
    "\n",
    "        if (state_score[discrete_state] > best_reward):\n",
    "            best_state = np.copy(current_state)\n",
    "            best_reward = state_score[discrete_state]\n",
    "\n",
    "        max_future_q = np.max(q_table[new_discrete_state])\n",
    "        current_q = q_table[(discrete_state, action[0], action[1])]\n",
    "\n",
    "        new_q = (1 - alpha) * current_q + alpha * (state_score[discrete_state] + gamma * max_future_q)\n",
    "        q_table[(discrete_state, action[0], action[1])] = new_q\n",
    "\n",
    "        discrete_state = new_discrete_state\n",
    "    \n",
    "    \n",
    "    current_state = np.copy(best_state)\n",
    "    reward = np.max(state_score)\n",
    "    if epsilon > 0.05: \n",
    "        if reward > prev_reward and i > 10000:\n",
    "            epsilon = epsilon_decay ** (i - 10000)\n",
    "\n",
    "            if i % 500 == 0:\n",
    "                print(\"Epsilon: \" + str(epsilon))\n",
    "    \n",
    "    t1 = time.time()\n",
    "    iteration_time = t1-t0\n",
    "    total += iteration_time\n",
    "\n",
    "    tot_reward += reward\n",
    "    prev_reward = reward\n",
    "\n",
    "    if i % 1000 == 0: \n",
    "        mean = total / 1000\n",
    "        print(\"Time Average: \" + str(mean))\n",
    "        total = 0\n",
    "\n",
    "        mean_reward = tot_reward / 1000\n",
    "        print(\"Mean Reward: \" + str(mean_reward))\n",
    "        tot_reward = 0"
   ]
  },
  {
   "cell_type": "markdown",
   "metadata": {},
   "source": [
    "Final = best_state"
   ]
  }
 ],
 "metadata": {
  "interpreter": {
   "hash": "11938c6bc6919ae2720b4d5011047913343b08a43b18698fd82dedb0d4417594"
  },
  "kernelspec": {
   "display_name": "Python 3.9.4 64-bit",
   "language": "python",
   "name": "python3"
  },
  "language_info": {
   "codemirror_mode": {
    "name": "ipython",
    "version": 3
   },
   "file_extension": ".py",
   "mimetype": "text/x-python",
   "name": "python",
   "nbconvert_exporter": "python",
   "pygments_lexer": "ipython3",
   "version": "3.9.4"
  },
  "orig_nbformat": 4
 },
 "nbformat": 4,
 "nbformat_minor": 2
}
